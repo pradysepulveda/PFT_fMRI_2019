{
 "cells": [
  {
   "cell_type": "markdown",
   "metadata": {},
   "source": [
    "# Generate Choice file for all participants (pet experiment)\n"
   ]
  },
  {
   "cell_type": "code",
   "execution_count": 52,
   "metadata": {},
   "outputs": [],
   "source": [
    "import numpy as np\n",
    "import pandas as pd\n",
    "from pandas.core.frame import DataFrame as DF\n",
    "# Useful to quickly extract csv files\n",
    "import glob\n",
    "import os"
   ]
  },
  {
   "cell_type": "code",
   "execution_count": 53,
   "metadata": {},
   "outputs": [],
   "source": [
    "# Extract Rate data"
   ]
  },
  {
   "cell_type": "code",
   "execution_count": 54,
   "metadata": {},
   "outputs": [],
   "source": [
    "# Load data all participants\n",
    "\n",
    "rateNameFrames = glob.glob('/Users/pradyumna/Documents/GiTs/PFT_fMRI_2019/Pilots Pet/Data/*_RateData_PFT.csv')\n",
    "choiceNameFrames = glob.glob('/Users/pradyumna/Documents/GiTs/PFT_fMRI_2019/Pilots Pet/Data/*_ChoiceData_PFT_MRI.csv')\n",
    "\n",
    "rateNameFrames.sort()\n",
    "choiceNameFrames.sort()"
   ]
  },
  {
   "cell_type": "code",
   "execution_count": 55,
   "metadata": {},
   "outputs": [
    {
     "data": {
      "text/plain": [
       "['/Users/pradyumna/Documents/GiTs/PFT_fMRI_2019/Pilots Pet/Data/S1_RateData_PFT.csv']"
      ]
     },
     "execution_count": 55,
     "metadata": {},
     "output_type": "execute_result"
    }
   ],
   "source": [
    "rateNameFrames"
   ]
  },
  {
   "cell_type": "code",
   "execution_count": 56,
   "metadata": {},
   "outputs": [
    {
     "data": {
      "text/plain": [
       "['/Users/pradyumna/Documents/GiTs/PFT_fMRI_2019/Pilots Pet/Data/pilot1_ChoiceData_PFT_MRI.csv']"
      ]
     },
     "execution_count": 56,
     "metadata": {},
     "output_type": "execute_result"
    }
   ],
   "source": [
    "choiceNameFrames"
   ]
  },
  {
   "cell_type": "markdown",
   "metadata": {},
   "source": [
    "## Join rating in this case"
   ]
  },
  {
   "cell_type": "code",
   "execution_count": 57,
   "metadata": {},
   "outputs": [
    {
     "name": "stderr",
     "output_type": "stream",
     "text": [
      "/Users/pradyumna/anaconda3/lib/python3.7/site-packages/ipykernel_launcher.py:77: FutureWarning: Sorting because non-concatenation axis is not aligned. A future version\n",
      "of pandas will change to not sort by default.\n",
      "\n",
      "To accept the future behavior, pass 'sort=False'.\n",
      "\n",
      "To retain the current behavior and silence the warning, pass 'sort=True'.\n",
      "\n"
     ]
    }
   ],
   "source": [
    "partic_num=len(rateNameFrames) #number of participants\n",
    "\n",
    "choiceFrameAll = pd.DataFrame( columns = ['trial','leftId','rightId','frame','endTime','choice','choiceTime','LRat1','RRat1','LRat2','RRat2','LVar1','RVar1','LVar2','RVar2','Part'])\n",
    "idFrameAll = pd.DataFrame( columns = ['nameId','rat1','rat2','var1','var2','Part'])\n",
    "\n",
    "for j in range (partic_num):\n",
    "    rateFrame = pd.read_csv(rateNameFrames[j])\n",
    "    choiceFrames = pd.read_csv(choiceNameFrames[j])\n",
    "    \n",
    "    if 'ratL' in choiceFrames.columns:\n",
    "        if 'ratR' in choiceFrames.columns:\n",
    "            choiceFrames = choiceFrames.drop(['ratL', 'ratR'], axis=1)\n",
    "\n",
    "    \n",
    "    idNames = list(rateFrame.picId.unique())\n",
    "    IdRatings1 = [None]*len(idNames)\n",
    "    IdRatings2 = [None]*len(idNames)\n",
    "    IdRatingsVar1 = [None]*len(idNames)\n",
    "    IdRatingsVar2 = [None]*len(idNames)\n",
    "\n",
    "    \n",
    "    #extract average rating for like, dislike\n",
    "    for i in range(len(idNames)):\n",
    "        IdRatings1[i] = rateFrame.loc[(rateFrame['picId'] == idNames[i]) & (rateFrame['frame'] == 1)].rating.mean()\n",
    "        IdRatings2[i] = rateFrame.loc[(rateFrame['picId'] == idNames[i]) & (rateFrame['frame'] == 2)].rating.mean()\n",
    "        \n",
    "        IdRatingsVar1[i] = rateFrame.loc[(rateFrame['picId'] == idNames[i]) & (rateFrame['frame'] == 1)].rating.std()\n",
    "        IdRatingsVar2[i] = rateFrame.loc[(rateFrame['picId'] == idNames[i]) & (rateFrame['frame'] == 2)].rating.std()\n",
    "\n",
    "    rateValues = pd.DataFrame( {'nameId': idNames,'rat1': IdRatings1,'rat2': IdRatings2,'var1': IdRatingsVar1,'var2': IdRatingsVar2,})\n",
    "    rateValues['Part'] = [j]*len(rateValues)    \n",
    "    \n",
    "    # save information about celebs and ratings\n",
    "    \n",
    "    idFrameAll = pd.concat([idFrameAll,rateValues],ignore_index=True)\n",
    "\n",
    "    # separate ratings and rating-variability for each frame\n",
    "    ChoiceLRat1 = [None]*len(choiceFrames)\n",
    "    ChoiceRRat1 = [None]*len(choiceFrames)\n",
    "    ChoiceLRat2 = [None]*len(choiceFrames)\n",
    "    ChoiceRRat2 = [None]*len(choiceFrames)\n",
    "\n",
    "    ChoiceLVar1 = [None]*len(choiceFrames)\n",
    "    ChoiceRVar1 = [None]*len(choiceFrames)\n",
    "    ChoiceLVar2 = [None]*len(choiceFrames)\n",
    "    ChoiceRVar2 = [None]*len(choiceFrames)\n",
    "    \n",
    "    for i in range(len(choiceFrames)):\n",
    "        \n",
    "        choiceL = choiceFrames.iloc[i].leftId\n",
    "        choiceR = choiceFrames.iloc[i].rightId\n",
    "        \n",
    "        if any((rateValues['nameId'] == choiceL)) and any((rateValues['nameId'] == choiceR)):\n",
    "        \n",
    "            ChoiceLRat1[i] = rateValues.loc[(rateValues['nameId'] == choiceL)].rat1.values[0]\n",
    "            ChoiceRRat1[i] = rateValues.loc[(rateValues['nameId'] == choiceR)].rat1.values[0]\n",
    "            ChoiceLRat2[i] = rateValues.loc[(rateValues['nameId'] == choiceL)].rat2.values[0]\n",
    "            ChoiceRRat2[i] = rateValues.loc[(rateValues['nameId'] == choiceR)].rat2.values[0]\n",
    "            \n",
    "            ChoiceLVar1[i] = rateValues.loc[(rateValues['nameId'] == choiceL)].var1.values[0]\n",
    "            ChoiceRVar1[i] = rateValues.loc[(rateValues['nameId'] == choiceR)].var1.values[0]\n",
    "            ChoiceLVar2[i] = rateValues.loc[(rateValues['nameId'] == choiceL)].var2.values[0]\n",
    "            ChoiceRVar2[i] = rateValues.loc[(rateValues['nameId'] == choiceR)].var2.values[0]\n",
    "\n",
    "    choiceFrames['LRat1'] = ChoiceLRat1\n",
    "    choiceFrames['RRat1'] = ChoiceRRat1\n",
    "    choiceFrames['LRat2'] = ChoiceLRat2\n",
    "    choiceFrames['RRat2'] = ChoiceRRat2 \n",
    "    \n",
    "    choiceFrames['LVar1'] = ChoiceLVar1\n",
    "    choiceFrames['RVar1'] = ChoiceRVar1\n",
    "    choiceFrames['LVar2'] = ChoiceLVar2\n",
    "    choiceFrames['RVar2'] = ChoiceRVar2\n",
    "     \n",
    "    choiceFrames['Part'] = [j]*len(choiceFrames)    \n",
    "\n",
    "    choiceFrameAll = pd.concat([choiceFrameAll,choiceFrames],ignore_index=True)\n",
    "    "
   ]
  },
  {
   "cell_type": "code",
   "execution_count": 58,
   "metadata": {},
   "outputs": [
    {
     "data": {
      "text/plain": [
       "0     1.0\n",
       "1     1.0\n",
       "2     2.0\n",
       "3     1.0\n",
       "4     1.0\n",
       "5     2.0\n",
       "6     2.0\n",
       "7     1.0\n",
       "8     2.0\n",
       "9     2.0\n",
       "10    1.0\n",
       "11    1.0\n",
       "12    2.0\n",
       "13    1.0\n",
       "14    2.0\n",
       "15    2.0\n",
       "16    2.0\n",
       "17    1.0\n",
       "18    2.0\n",
       "19    2.0\n",
       "20    1.0\n",
       "21    1.0\n",
       "22    2.0\n",
       "23    2.0\n",
       "24    2.0\n",
       "25    1.0\n",
       "26    1.0\n",
       "27    1.0\n",
       "28    1.0\n",
       "29    1.0\n",
       "     ... \n",
       "66    2.0\n",
       "67    2.0\n",
       "68    2.0\n",
       "69    2.0\n",
       "70    1.0\n",
       "71    1.0\n",
       "72    1.0\n",
       "73    1.0\n",
       "74    1.0\n",
       "75    1.0\n",
       "76    2.0\n",
       "77    1.0\n",
       "78    2.0\n",
       "79    1.0\n",
       "80    1.0\n",
       "81    1.0\n",
       "82    2.0\n",
       "83    2.0\n",
       "84    2.0\n",
       "85    2.0\n",
       "86    1.0\n",
       "87    2.0\n",
       "88    1.0\n",
       "89    1.0\n",
       "90    1.0\n",
       "91    2.0\n",
       "92    2.0\n",
       "93    1.0\n",
       "94    2.0\n",
       "95    1.0\n",
       "Name: frame, Length: 96, dtype: float64"
      ]
     },
     "execution_count": 58,
     "metadata": {},
     "output_type": "execute_result"
    }
   ],
   "source": [
    "choiceFrameAll.frame"
   ]
  },
  {
   "cell_type": "markdown",
   "metadata": {},
   "source": [
    "# Save file"
   ]
  },
  {
   "cell_type": "code",
   "execution_count": 59,
   "metadata": {},
   "outputs": [],
   "source": [
    "choiceFrameAll.to_csv('/Users/pradyumna/Documents/GiTs/PFT_fMRI_2019/Pilots Pet/Data/All/PFT_Choice_Pilot_All.csv',index = False)\n",
    "idFrameAll.to_csv('/Users/pradyumna/Documents/GiTs/PFT_fMRI_2019/Pilots Pet/Data/All/PFT_idRatingsFrame_Pilot_All.csv',index = False)"
   ]
  },
  {
   "cell_type": "code",
   "execution_count": null,
   "metadata": {},
   "outputs": [],
   "source": []
  },
  {
   "cell_type": "code",
   "execution_count": null,
   "metadata": {},
   "outputs": [],
   "source": []
  },
  {
   "cell_type": "code",
   "execution_count": null,
   "metadata": {},
   "outputs": [],
   "source": []
  }
 ],
 "metadata": {
  "kernelspec": {
   "display_name": "Python 3",
   "language": "python",
   "name": "python3"
  },
  "language_info": {
   "codemirror_mode": {
    "name": "ipython",
    "version": 3
   },
   "file_extension": ".py",
   "mimetype": "text/x-python",
   "name": "python",
   "nbconvert_exporter": "python",
   "pygments_lexer": "ipython3",
   "version": "3.7.3"
  }
 },
 "nbformat": 4,
 "nbformat_minor": 2
}
