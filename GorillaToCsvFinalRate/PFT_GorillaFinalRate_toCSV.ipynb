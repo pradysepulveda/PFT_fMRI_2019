{
 "cells": [
  {
   "cell_type": "code",
   "execution_count": 6,
   "metadata": {},
   "outputs": [],
   "source": [
    "import numpy as np\n",
    "import pandas as pd\n",
    "from pandas.core.frame import DataFrame as DF\n",
    "# Useful to quickly extract csv files\n",
    "import glob\n",
    "import os"
   ]
  },
  {
   "cell_type": "code",
   "execution_count": 7,
   "metadata": {},
   "outputs": [
    {
     "data": {
      "text/plain": [
       "['/Users/pradyumna/OneDrive - University College London/PhD Projects/PFT_MRI_Experiment/Scanner Pilot/Behavioral_Gorilla_FinalRate/AllJoined/data_exp_60262-v7_task-64d8.csv',\n",
       " '/Users/pradyumna/OneDrive - University College London/PhD Projects/PFT_MRI_Experiment/Scanner Pilot/Behavioral_Gorilla_FinalRate/AllJoined/data_exp_60262-v8_task-64d8.csv']"
      ]
     },
     "execution_count": 7,
     "metadata": {},
     "output_type": "execute_result"
    }
   ],
   "source": [
    "# Load data participants\n",
    "\n",
    "\n",
    "rateNameFrames = list()\n",
    "\n",
    "#for i in np.arange(len(select_subj)):\n",
    "rateNameFrames1 = glob.glob('/Users/pradyumna/OneDrive - University College London/PhD Projects/PFT_MRI_Experiment/Scanner Pilot/Behavioral_Gorilla_FinalRate/AllJoined/*task*.csv')\n",
    "rateNameFrames1.sort()\n",
    "rateNameFrames.extend(rateNameFrames1)\n",
    "rateNameFrames"
   ]
  },
  {
   "cell_type": "code",
   "execution_count": 8,
   "metadata": {},
   "outputs": [
    {
     "data": {
      "text/plain": [
       "['/Users/pradyumna/OneDrive - University College London/PhD Projects/PFT_MRI_Experiment/Scanner Pilot/Behavioral_Gorilla_FinalRate/AllJoined/data_exp_60262-v7_task-64d8.csv',\n",
       " '/Users/pradyumna/OneDrive - University College London/PhD Projects/PFT_MRI_Experiment/Scanner Pilot/Behavioral_Gorilla_FinalRate/AllJoined/data_exp_60262-v8_task-64d8.csv']"
      ]
     },
     "execution_count": 8,
     "metadata": {},
     "output_type": "execute_result"
    }
   ],
   "source": [
    "rateNameFrames"
   ]
  },
  {
   "cell_type": "code",
   "execution_count": 9,
   "metadata": {},
   "outputs": [
    {
     "name": "stdout",
     "output_type": "stream",
     "text": [
      "Saved.... /Users/pradyumna/OneDrive - University College London/PhD Projects/PFT_MRI_Experiment/Scanner Pilot/Behavioral/S05/S05_RateDataFinal_PFT_FinalRate_MRI_Exp_Gorilla.csv\n",
      "Saved.... /Users/pradyumna/OneDrive - University College London/PhD Projects/PFT_MRI_Experiment/Scanner Pilot/Behavioral/S06/S06_RateDataFinal_PFT_FinalRate_MRI_Exp_Gorilla.csv\n",
      "Saved.... /Users/pradyumna/OneDrive - University College London/PhD Projects/PFT_MRI_Experiment/Scanner Pilot/Behavioral/S07/S07_RateDataFinal_PFT_FinalRate_MRI_Exp_Gorilla.csv\n",
      "Saved.... /Users/pradyumna/OneDrive - University College London/PhD Projects/PFT_MRI_Experiment/Scanner Pilot/Behavioral/S10/S10_RateDataFinal_PFT_FinalRate_MRI_Exp_Gorilla.csv\n",
      "Saved.... /Users/pradyumna/OneDrive - University College London/PhD Projects/PFT_MRI_Experiment/Scanner Pilot/Behavioral/S11/S11_RateDataFinal_PFT_FinalRate_MRI_Exp_Gorilla.csv\n",
      "Saved.... /Users/pradyumna/OneDrive - University College London/PhD Projects/PFT_MRI_Experiment/Scanner Pilot/Behavioral/S12/S12_RateDataFinal_PFT_FinalRate_MRI_Exp_Gorilla.csv\n",
      "Saved.... /Users/pradyumna/OneDrive - University College London/PhD Projects/PFT_MRI_Experiment/Scanner Pilot/Behavioral/S09/S09_RateDataFinal_PFT_FinalRate_MRI_Exp_Gorilla.csv\n",
      "Saved.... /Users/pradyumna/OneDrive - University College London/PhD Projects/PFT_MRI_Experiment/Scanner Pilot/Behavioral/S08/S08_RateDataFinal_PFT_FinalRate_MRI_Exp_Gorilla.csv\n"
     ]
    }
   ],
   "source": [
    "file_num=len(rateNameFrames) #number of files\n",
    "\n",
    "\n",
    "rateFrameRawAll = pd.DataFrame()\n",
    "for j in range (file_num):\n",
    "    \n",
    "    # load data\n",
    "    rateFrames0 = pd.read_csv(rateNameFrames[j])\n",
    "    \n",
    "    rateFrames = rateFrames0.loc[ (rateFrames0['display'] == 'Rate') & (rateFrames0['Zone Type'] == 'response_slider_endValue')]\n",
    "    \n",
    "    \n",
    "    rateFrameCut = rateFrames[['Participant Public ID','Trial Number','picId' , 'picNum','Response', 'Reaction Time']]\n",
    "    rateFrameCut=rateFrameCut.rename(index=str, columns={'Trial Number':\"trial\", \n",
    "                                                     'Response':'rating',\n",
    "                                                        'Participant Public ID':'part'})\n",
    "    \n",
    "    for jj in rateFrameCut.part.unique():\n",
    "\n",
    "        rate_part = rateFrameCut.loc[ (rateFrameCut['part'] == jj) ]\n",
    "        \n",
    "        output_dir = '/Users/pradyumna/OneDrive - University College London/PhD Projects/PFT_MRI_Experiment/Scanner Pilot/Behavioral/'+jj+''\n",
    "        \n",
    "        if not os.path.exists(output_dir):\n",
    "            os.mkdir(output_dir)        \n",
    "        rate_part.to_csv('/Users/pradyumna/OneDrive - University College London/PhD Projects/PFT_MRI_Experiment/Scanner Pilot/Behavioral/'+jj+'/'+jj+'_RateDataFinal_PFT_FinalRate_MRI_Exp_Gorilla.csv',index = False)\n",
    "        print ('Saved.... /Users/pradyumna/OneDrive - University College London/PhD Projects/PFT_MRI_Experiment/Scanner Pilot/Behavioral/'+jj+'/'+jj+'_RateDataFinal_PFT_FinalRate_MRI_Exp_Gorilla.csv')\n",
    " \n",
    "    #rateFrameRawAll = pd.concat([rateFrameRawAll,rateFrameCut],ignore_index=True)"
   ]
  },
  {
   "cell_type": "code",
   "execution_count": null,
   "metadata": {},
   "outputs": [],
   "source": []
  }
 ],
 "metadata": {
  "kernelspec": {
   "display_name": "Python 3",
   "language": "python",
   "name": "python3"
  },
  "language_info": {
   "codemirror_mode": {
    "name": "ipython",
    "version": 3
   },
   "file_extension": ".py",
   "mimetype": "text/x-python",
   "name": "python",
   "nbconvert_exporter": "python",
   "pygments_lexer": "ipython3",
   "version": "3.7.3"
  }
 },
 "nbformat": 4,
 "nbformat_minor": 2
}
